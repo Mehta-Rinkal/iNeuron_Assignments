{
 "cells": [
  {
   "cell_type": "markdown",
   "id": "c263ac8f",
   "metadata": {},
   "source": [
    "1. Why are functions advantageous to have in your programs?"
   ]
  },
  {
   "cell_type": "markdown",
   "id": "c0a73e48",
   "metadata": {},
   "source": [
    "- A function is a block of organized, reusable code that is used to perform a single, related action.\n",
    "- The idea is to put some commonly or repeatedly done tasks together and make a function so that instead of writing the same code again and again for different inputs, we can do the function calls to reuse code contained in it over and over again.\n",
    "- Increase code readability\n",
    "- Increase code reusability"
   ]
  },
  {
   "cell_type": "markdown",
   "id": "fd1da7a4",
   "metadata": {},
   "source": [
    "2. When does the code in a function run: when it's specified or when it's called?"
   ]
  },
  {
   "cell_type": "markdown",
   "id": "5b4a12bf",
   "metadata": {},
   "source": [
    "When we call the function the code in function is run.function call specified with the name of function followed by parenthesis containing parameter of that particular function."
   ]
  },
  {
   "cell_type": "code",
   "execution_count": 2,
   "id": "0468c467",
   "metadata": {},
   "outputs": [
    {
     "name": "stdout",
     "output_type": "stream",
     "text": [
      "Hello, iNeuron!\n"
     ]
    }
   ],
   "source": [
    "# example\n",
    "def fun1():\n",
    "    print(\"Hello, iNeuron!\")\n",
    "    \n",
    "fun1()"
   ]
  },
  {
   "cell_type": "markdown",
   "id": "d4b767df",
   "metadata": {},
   "source": [
    "3. What statement creates a function?"
   ]
  },
  {
   "cell_type": "code",
   "execution_count": 4,
   "id": "c1bb7a72",
   "metadata": {},
   "outputs": [],
   "source": [
    "# The syntax to declare a function is:\n",
    "def function_name(parameters):\n",
    "    satements\n",
    "    return expression"
   ]
  },
  {
   "cell_type": "markdown",
   "id": "bec84bd0",
   "metadata": {},
   "source": [
    "here\n",
    "- def is keyword\n",
    "- function_name is name of the function\n",
    "- parameters are the parameter or argument which will pass when calling function.\n",
    "- statements represnt the body function where you can write a logic.\n",
    "- at last we can write return statement of function."
   ]
  },
  {
   "cell_type": "markdown",
   "id": "27394797",
   "metadata": {},
   "source": [
    "4. What is the difference between a function and a function call?"
   ]
  },
  {
   "cell_type": "markdown",
   "id": "37ea2bc7",
   "metadata": {},
   "source": [
    "- In function we can take parametrs write logic or code where function call is used to invoke that function. without function call we can't get the output of function."
   ]
  },
  {
   "cell_type": "markdown",
   "id": "32c83005",
   "metadata": {},
   "source": [
    "5. How many global scopes are there in a Python program? How many local scopes?"
   ]
  },
  {
   "cell_type": "markdown",
   "id": "328f2ea8",
   "metadata": {},
   "source": [
    "- Python Global variables\n",
    "- Global variables are the ones that are defined and declared outside any function and are not specified to any function. They can be used by any part of the program."
   ]
  },
  {
   "cell_type": "code",
   "execution_count": 3,
   "id": "b82d2d61",
   "metadata": {},
   "outputs": [
    {
     "name": "stdout",
     "output_type": "stream",
     "text": [
      "I love to learn python\n"
     ]
    }
   ],
   "source": [
    "# This function uses global variable s\n",
    "def f():\n",
    "    print(s)\n",
    "# Global scope\n",
    "s = \"I love to learn python\"\n",
    "f()"
   ]
  },
  {
   "cell_type": "markdown",
   "id": "eca34471",
   "metadata": {},
   "source": [
    "- Python Local variable\n",
    "- Local variables are those that are initialized within a function and are unique to that function. It cannot be accessed outside of the function. Let’s look at how to make a local variable."
   ]
  },
  {
   "cell_type": "code",
   "execution_count": 4,
   "id": "7218134a",
   "metadata": {},
   "outputs": [
    {
     "name": "stdout",
     "output_type": "stream",
     "text": [
      "I love to learn python\n"
     ]
    }
   ],
   "source": [
    "def f():\n",
    " \n",
    "    # local variable\n",
    "    s = \"I love to learn python\"\n",
    "    print(s)\n",
    "# Driver code\n",
    "f()"
   ]
  },
  {
   "cell_type": "markdown",
   "id": "1b24e5e6",
   "metadata": {},
   "source": [
    "Global and Local Variables with the Same Name"
   ]
  },
  {
   "cell_type": "code",
   "execution_count": 5,
   "id": "7d276c23",
   "metadata": {},
   "outputs": [
    {
     "name": "stdout",
     "output_type": "stream",
     "text": [
      "Inner the function : Local scope\n",
      "Outer the function : Global scope\n"
     ]
    }
   ],
   "source": [
    "def f():\n",
    "    s = \"Inner the function : Local scope\"\n",
    "    print(s)\n",
    " # Global scope\n",
    "s = \"Outer the function : Global scope\"\n",
    "f()\n",
    "print(s)"
   ]
  },
  {
   "cell_type": "markdown",
   "id": "0a98d09c",
   "metadata": {},
   "source": [
    "6. What happens to variables in a local scope when the function call returns?"
   ]
  },
  {
   "cell_type": "markdown",
   "id": "1d00137a",
   "metadata": {},
   "source": [
    "In local scope when function call return local variables are destroy."
   ]
  },
  {
   "cell_type": "code",
   "execution_count": 7,
   "id": "cf59ee93",
   "metadata": {},
   "outputs": [
    {
     "name": "stdout",
     "output_type": "stream",
     "text": [
      "30\n"
     ]
    },
    {
     "ename": "NameError",
     "evalue": "name 'x' is not defined",
     "output_type": "error",
     "traceback": [
      "\u001b[1;31m---------------------------------------------------------------------------\u001b[0m",
      "\u001b[1;31mNameError\u001b[0m                                 Traceback (most recent call last)",
      "Input \u001b[1;32mIn [7]\u001b[0m, in \u001b[0;36m<cell line: 8>\u001b[1;34m()\u001b[0m\n\u001b[0;32m      6\u001b[0m result \u001b[38;5;241m=\u001b[39m example_function()  \u001b[38;5;66;03m# Calling the function and storing the result\u001b[39;00m\n\u001b[0;32m      7\u001b[0m \u001b[38;5;28mprint\u001b[39m(result)\n\u001b[1;32m----> 8\u001b[0m \u001b[38;5;28mprint\u001b[39m(\u001b[43mx\u001b[49m)\n",
      "\u001b[1;31mNameError\u001b[0m: name 'x' is not defined"
     ]
    }
   ],
   "source": [
    "def example_function():\n",
    "    x = 10\n",
    "    y = 20\n",
    "    return x + y\n",
    "\n",
    "result = example_function()  # Calling the function and storing the result\n",
    "print(result)\n",
    "print(x) #x is local"
   ]
  },
  {
   "cell_type": "markdown",
   "id": "70b934a3",
   "metadata": {},
   "source": [
    "7. What is the concept of a return value? Is it possible to have a return value in an expression?"
   ]
  },
  {
   "cell_type": "markdown",
   "id": "5a54758a",
   "metadata": {},
   "source": [
    "-  When a function is called, it can perform some operations, manipulate data, and generate a result. The return statement is used to send this result or value back to the caller.\n",
    "\n",
    "- In Python, functions can have a return value, which is specified using the return statement. The return value can be of any data type, including numbers, strings, lists, dictionaries, or even custom objects. When the function is called, the return value can be captured and used by the caller.\n",
    "- Yes it is possible to have a return value in expression."
   ]
  },
  {
   "cell_type": "code",
   "execution_count": 8,
   "id": "32db7c7d",
   "metadata": {},
   "outputs": [
    {
     "name": "stdout",
     "output_type": "stream",
     "text": [
      "25\n"
     ]
    }
   ],
   "source": [
    "def square(x):\n",
    "    return x * x\n",
    "\n",
    "result = square(4) + square(3)\n",
    "print(result)"
   ]
  },
  {
   "cell_type": "markdown",
   "id": "6cd27280",
   "metadata": {},
   "source": [
    "8. If a function does not have a return statement, what is the return value of a call to that function?"
   ]
  },
  {
   "cell_type": "markdown",
   "id": "211e5cc1",
   "metadata": {},
   "source": [
    "If a function does not have a return statement, it implicitly returns a special value called None. None is a built-in constant in Python that represents the absence of a value or the lack of a meaningful result."
   ]
  },
  {
   "cell_type": "markdown",
   "id": "29aac199",
   "metadata": {},
   "source": [
    "9. How do you make a function variable refer to the global variable?"
   ]
  },
  {
   "cell_type": "markdown",
   "id": "5c35263c",
   "metadata": {},
   "source": [
    "if you want to make a function variable refer to a global variable, you can use the global keyword inside the function. This keyword tells Python that a variable you're using within the function should be treated as a global variable, rather than creating a new local variable with the same name. This allows you to modify the global variable's value from within the function."
   ]
  },
  {
   "cell_type": "code",
   "execution_count": 9,
   "id": "50629d8d",
   "metadata": {},
   "outputs": [
    {
     "name": "stdout",
     "output_type": "stream",
     "text": [
      "15\n"
     ]
    }
   ],
   "source": [
    "global_variable = 10\n",
    "\n",
    "def modify_global():\n",
    "    global global_variable  # Declare that we are using the global variable\n",
    "    global_variable += 5    # Modify the global variable\n",
    "\n",
    "modify_global()\n",
    "print(global_variable)"
   ]
  },
  {
   "cell_type": "markdown",
   "id": "e5fe55f0",
   "metadata": {},
   "source": [
    "10. What is the data type of None?"
   ]
  },
  {
   "cell_type": "code",
   "execution_count": 10,
   "id": "f1ee7542",
   "metadata": {},
   "outputs": [
    {
     "data": {
      "text/plain": [
       "NoneType"
      ]
     },
     "execution_count": 10,
     "metadata": {},
     "output_type": "execute_result"
    }
   ],
   "source": [
    "type(None)"
   ]
  },
  {
   "cell_type": "markdown",
   "id": "cc31bac9",
   "metadata": {},
   "source": [
    "11. What does the sentence import are all your petsnamederic do?"
   ]
  },
  {
   "cell_type": "markdown",
   "id": "fdb0411e",
   "metadata": {},
   "source": [
    "The sentence \"import are all your petsnamederic\" is not a standard or meaningful Python statement. It appears to be a playful or nonsensical phrase that combines various programming concepts, words, and phrases."
   ]
  },
  {
   "cell_type": "markdown",
   "id": "850834a3",
   "metadata": {},
   "source": [
    "12. If you had a bacon() feature in a spam module, what would you call it after importing spam?"
   ]
  },
  {
   "cell_type": "markdown",
   "id": "1df6eb0a",
   "metadata": {},
   "source": [
    "If you have a function named bacon() within a module named spam, you would call it after importing the spam module using the following syntax:"
   ]
  },
  {
   "cell_type": "markdown",
   "id": "3673f241",
   "metadata": {},
   "source": [
    "import spam\n",
    " - spam.bacon()"
   ]
  },
  {
   "cell_type": "markdown",
   "id": "3c1d4ba1",
   "metadata": {},
   "source": [
    "13. What can you do to save a programme from crashing if it encounters an error?"
   ]
  },
  {
   "cell_type": "markdown",
   "id": "7ca7ebb2",
   "metadata": {},
   "source": [
    "To prevent a program from crashing when encountering an error, you can use error handling mechanisms in your code. In Python, the primary approach to handle errors is through the use of try and except blocks. These blocks allow you to catch and manage exceptions (errors) that might occur during the execution of your program."
   ]
  },
  {
   "cell_type": "code",
   "execution_count": 12,
   "id": "5736efd0",
   "metadata": {},
   "outputs": [
    {
     "name": "stdout",
     "output_type": "stream",
     "text": [
      "An error occurred: Division by zero\n",
      "Execution completed\n"
     ]
    }
   ],
   "source": [
    "try:\n",
    "    # Code that might raise an exception\n",
    "    result = 10 / 0  # This will raise a ZeroDivisionError\n",
    "except ZeroDivisionError:\n",
    "    # Code to handle the specific exception\n",
    "    print(\"An error occurred: Division by zero\")\n",
    "finally:\n",
    "    # Code that will run no matter what\n",
    "    print(\"Execution completed\")"
   ]
  },
  {
   "cell_type": "markdown",
   "id": "8a9379a8",
   "metadata": {},
   "source": [
    "14. What is the purpose of the try clause? What is the purpose of the except clause?"
   ]
  },
  {
   "cell_type": "markdown",
   "id": "8acd4fa9",
   "metadata": {},
   "source": [
    "The try block lets you test a block of code for errors. The except block lets you handle the error. The else block lets you execute code when there is no error. The finally block lets you execute code, regardless of the result of the try- and except blocks."
   ]
  },
  {
   "cell_type": "code",
   "execution_count": null,
   "id": "dd3b9162",
   "metadata": {},
   "outputs": [],
   "source": []
  }
 ],
 "metadata": {
  "kernelspec": {
   "display_name": "Python 3 (ipykernel)",
   "language": "python",
   "name": "python3"
  },
  "language_info": {
   "codemirror_mode": {
    "name": "ipython",
    "version": 3
   },
   "file_extension": ".py",
   "mimetype": "text/x-python",
   "name": "python",
   "nbconvert_exporter": "python",
   "pygments_lexer": "ipython3",
   "version": "3.8.13"
  }
 },
 "nbformat": 4,
 "nbformat_minor": 5
}
