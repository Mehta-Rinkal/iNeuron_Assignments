{
 "cells": [
  {
   "cell_type": "markdown",
   "id": "be434822",
   "metadata": {},
   "source": [
    "### 1.In the below elements which of them are values or an expression? eg:- values can beinteger or string and expressions will be mathematical operators."
   ]
  },
  {
   "cell_type": "markdown",
   "id": "efd734db",
   "metadata": {},
   "source": [
    " 1. \"*\" :Expression\n",
    " 2. hello : Value\n",
    " 3. -87.8 : Value\n",
    " 4. \"-\" : Expression\n",
    " 5. \"/\" : Expression\n",
    " 6. \"+\" : Expression"
   ]
  },
  {
   "cell_type": "markdown",
   "id": "587e47c0",
   "metadata": {},
   "source": [
    "### 2.What is difference between string and variable?"
   ]
  },
  {
   "cell_type": "markdown",
   "id": "60636ef8",
   "metadata": {},
   "source": [
    "String is define with double comma or single comma it can be any value number,sentence or anyting .\n",
    "variable is used to store the data like integer, string, float, list, tupple etc. We can not decalare variable with white space or starting with capital letter. There is some rule to define variable."
   ]
  },
  {
   "cell_type": "markdown",
   "id": "772649b9",
   "metadata": {},
   "source": [
    "### 3.Describe three different data types."
   ]
  },
  {
   "cell_type": "markdown",
   "id": "a1e67213",
   "metadata": {},
   "source": [
    "- Numeric : Integer, float\n",
    "- Sequence Type : list , touple\n",
    "- Boolean : bool\n",
    "- String : str"
   ]
  },
  {
   "cell_type": "markdown",
   "id": "772a09e0",
   "metadata": {},
   "source": [
    "### 4.What is an expression made up of? What do all expressions do?"
   ]
  },
  {
   "cell_type": "code",
   "execution_count": 4,
   "id": "8ddd8dc4",
   "metadata": {},
   "outputs": [
    {
     "data": {
      "text/plain": [
       "16.3"
      ]
     },
     "execution_count": 4,
     "metadata": {},
     "output_type": "execute_result"
    }
   ],
   "source": [
    "# 1.Constant Expressions: These are the expressions that have constant values only. \n",
    "x = 15 + 1.3\n",
    "x"
   ]
  },
  {
   "cell_type": "code",
   "execution_count": 18,
   "id": "08edeee7",
   "metadata": {},
   "outputs": [
    {
     "name": "stdout",
     "output_type": "stream",
     "text": [
      "Sum :6\n",
      "Substraction:-2\n",
      "Multiplication:8\n",
      "Division:0.5\n"
     ]
    }
   ],
   "source": [
    "# 2.Arithmetic Expressions: An arithmetic expression is a combination of numeric values, operators, and sometimes parenthesis. \n",
    "x,y = 2, 4 \n",
    "add = x + y \n",
    "sub = x - y \n",
    "pro = x * y \n",
    "div = x / y\n",
    "print(f\"\"\"Sum :{add}\n",
    "Substraction:{sub}\n",
    "Multiplication:{pro}\n",
    "Division:{div}\"\"\")"
   ]
  },
  {
   "cell_type": "code",
   "execution_count": 19,
   "id": "6c078887",
   "metadata": {},
   "outputs": [
    {
     "name": "stdout",
     "output_type": "stream",
     "text": [
      "25\n"
     ]
    }
   ],
   "source": [
    "# 3.Integral Expressions: These are the kind of expressions that produce only integer results after all computations and type conversions.\n",
    "a = 13 \n",
    "b = 12.0 \n",
    "c = a + int(b)\n",
    "print(c)"
   ]
  },
  {
   "cell_type": "code",
   "execution_count": 20,
   "id": "4a44c057",
   "metadata": {},
   "outputs": [
    {
     "name": "stdout",
     "output_type": "stream",
     "text": [
      "2.6\n"
     ]
    }
   ],
   "source": [
    "# 4.Floating Expressions: These are the kind of expressions which produce floating point numbers as result after all computations and type conversions. \n",
    "a = 13 \n",
    "b = 5 \n",
    "c = a / b\n",
    "print(c)"
   ]
  },
  {
   "cell_type": "code",
   "execution_count": 22,
   "id": "a3341862",
   "metadata": {},
   "outputs": [
    {
     "data": {
      "text/plain": [
       "True"
      ]
     },
     "execution_count": 22,
     "metadata": {},
     "output_type": "execute_result"
    }
   ],
   "source": [
    "# 5.Relational Expressions: In these types of expressions, arithmetic expressions are written on both sides of relational operator (> , < , >= , <=). \n",
    "a = 21 \n",
    "b = 13 \n",
    "c = 40 \n",
    "d = 37 \n",
    "p = (a + b) >= (c - d)\n",
    "p"
   ]
  },
  {
   "cell_type": "code",
   "execution_count": 23,
   "id": "99265e69",
   "metadata": {},
   "outputs": [
    {
     "name": "stdout",
     "output_type": "stream",
     "text": [
      "False True True\n"
     ]
    }
   ],
   "source": [
    "# 6.Logical Expressions: These are kinds of expressions that result in either True or False.\n",
    "P = (10 == 9) \n",
    "Q = (7 > 5) \n",
    "R = P and Q \n",
    "S = P or Q \n",
    "T = not P\n",
    "print(R,S,T)"
   ]
  },
  {
   "cell_type": "code",
   "execution_count": 24,
   "id": "d37d6f61",
   "metadata": {},
   "outputs": [
    {
     "name": "stdout",
     "output_type": "stream",
     "text": [
      "3 24\n"
     ]
    }
   ],
   "source": [
    "# 7. Bitwise Expressions: These are the kind of expressions in which computations are performed at bit level.\n",
    "a = 12\n",
    "  \n",
    "x = a >> 2\n",
    "y = a << 1\n",
    "  \n",
    "print(x, y)"
   ]
  },
  {
   "cell_type": "code",
   "execution_count": 25,
   "id": "c699c555",
   "metadata": {},
   "outputs": [
    {
     "name": "stdout",
     "output_type": "stream",
     "text": [
      "22\n"
     ]
    }
   ],
   "source": [
    "# 8. Combinational Expressions: We can also use different types of expressions in a single expression, and that will be termed as combinational expressions.\n",
    "a = 16\n",
    "b = 12\n",
    "  \n",
    "c = a + (b >> 1)\n",
    "print(c)"
   ]
  },
  {
   "cell_type": "markdown",
   "id": "e2ed5149",
   "metadata": {},
   "source": [
    "### 5. This assignment statements, like spam = 10. What is the difference between an expression and a statement?"
   ]
  },
  {
   "cell_type": "markdown",
   "id": "86aa7b8b",
   "metadata": {},
   "source": [
    "- Expression:An expression is a combination of values, variables, operators, and function calls that can be evaluated to produce a result\n",
    "- Statement: A statement is a unit of code that performs an action or operation in Python. It represents a complete instruction that the Python interpreter can execute. Statements can be assignments, loops, conditionals, function definitions, imports, and more.\n",
    "- expressions are used to produce values or results, whereas statements are used to perform actions or control the flow of the program"
   ]
  },
  {
   "cell_type": "markdown",
   "id": "f6ba2320",
   "metadata": {},
   "source": [
    "### 6. After running the following code, what does the variable bacon contain?\n",
    "bacon = 22\n",
    "bacon + 1"
   ]
  },
  {
   "cell_type": "code",
   "execution_count": 26,
   "id": "7373ee30",
   "metadata": {},
   "outputs": [
    {
     "data": {
      "text/plain": [
       "23"
      ]
     },
     "execution_count": 26,
     "metadata": {},
     "output_type": "execute_result"
    }
   ],
   "source": [
    "bacon = 22\n",
    "bacon + 1"
   ]
  },
  {
   "cell_type": "markdown",
   "id": "512b478e",
   "metadata": {},
   "source": [
    "### 7. What should the values of the following two terms be?"
   ]
  },
  {
   "cell_type": "code",
   "execution_count": 27,
   "id": "c2b72ebd",
   "metadata": {},
   "outputs": [
    {
     "data": {
      "text/plain": [
       "'spamspamspam'"
      ]
     },
     "execution_count": 27,
     "metadata": {},
     "output_type": "execute_result"
    }
   ],
   "source": [
    "'spam'+'spamspam'"
   ]
  },
  {
   "cell_type": "code",
   "execution_count": 28,
   "id": "baad94c5",
   "metadata": {},
   "outputs": [
    {
     "data": {
      "text/plain": [
       "'spamspamspam'"
      ]
     },
     "execution_count": 28,
     "metadata": {},
     "output_type": "execute_result"
    }
   ],
   "source": [
    "'spam'*3"
   ]
  },
  {
   "cell_type": "markdown",
   "id": "68737efe",
   "metadata": {},
   "source": [
    "### 8.Why is eggs a valid variable name while 100 is invalid?"
   ]
  },
  {
   "cell_type": "markdown",
   "id": "3f5c4290",
   "metadata": {},
   "source": [
    "eggs is valid variable name because it cannot start with number and not have any alphanumeric value while 100 is number so it cannot consider."
   ]
  },
  {
   "cell_type": "markdown",
   "id": "bd3ec58b",
   "metadata": {},
   "source": [
    "### 9.What three functions can be used to get the integer, floating-point number, or string version of a value?"
   ]
  },
  {
   "cell_type": "code",
   "execution_count": 30,
   "id": "ac3d9825",
   "metadata": {},
   "outputs": [
    {
     "data": {
      "text/plain": [
       "23"
      ]
     },
     "execution_count": 30,
     "metadata": {},
     "output_type": "execute_result"
    }
   ],
   "source": [
    "# Integer Conversion: int()\n",
    "a = int(23.4)\n",
    "a"
   ]
  },
  {
   "cell_type": "code",
   "execution_count": 31,
   "id": "a945b1de",
   "metadata": {},
   "outputs": [
    {
     "data": {
      "text/plain": [
       "23.0"
      ]
     },
     "execution_count": 31,
     "metadata": {},
     "output_type": "execute_result"
    }
   ],
   "source": [
    "# Floatng - point number : float()\n",
    "float(a)"
   ]
  },
  {
   "cell_type": "code",
   "execution_count": 35,
   "id": "c6f8fee8",
   "metadata": {},
   "outputs": [
    {
     "data": {
      "text/plain": [
       "'235'"
      ]
     },
     "execution_count": 35,
     "metadata": {},
     "output_type": "execute_result"
    }
   ],
   "source": [
    "# String conversion : str()\n",
    "b = str(235)\n",
    "b"
   ]
  },
  {
   "cell_type": "markdown",
   "id": "bface1a8",
   "metadata": {},
   "source": [
    "### 10. Why does this expression cause an error? How can you fix it?"
   ]
  },
  {
   "cell_type": "code",
   "execution_count": 36,
   "id": "97d876b6",
   "metadata": {},
   "outputs": [
    {
     "ename": "TypeError",
     "evalue": "can only concatenate str (not \"int\") to str",
     "output_type": "error",
     "traceback": [
      "\u001b[1;31m---------------------------------------------------------------------------\u001b[0m",
      "\u001b[1;31mTypeError\u001b[0m                                 Traceback (most recent call last)",
      "Input \u001b[1;32mIn [36]\u001b[0m, in \u001b[0;36m<cell line: 1>\u001b[1;34m()\u001b[0m\n\u001b[1;32m----> 1\u001b[0m \u001b[38;5;124;43m\"\u001b[39;49m\u001b[38;5;124;43mI have eaten\u001b[39;49m\u001b[38;5;124;43m\"\u001b[39;49m\u001b[43m \u001b[49m\u001b[38;5;241;43m+\u001b[39;49m\u001b[43m \u001b[49m\u001b[38;5;241;43m99\u001b[39;49m \u001b[38;5;241m+\u001b[39m \u001b[38;5;124m\"\u001b[39m\u001b[38;5;124mburritos\u001b[39m\u001b[38;5;124m\"\u001b[39m\n",
      "\u001b[1;31mTypeError\u001b[0m: can only concatenate str (not \"int\") to str"
     ]
    }
   ],
   "source": [
    "\"I have eaten\" + 99 + \"burritos\""
   ]
  },
  {
   "cell_type": "code",
   "execution_count": 39,
   "id": "8a0b99c6",
   "metadata": {},
   "outputs": [
    {
     "data": {
      "text/plain": [
       "'I have eaten 99 burritos'"
      ]
     },
     "execution_count": 39,
     "metadata": {},
     "output_type": "execute_result"
    }
   ],
   "source": [
    "\"I have eaten \" + str( 99) + \" burritos\""
   ]
  },
  {
   "cell_type": "code",
   "execution_count": null,
   "id": "3239fdb9",
   "metadata": {},
   "outputs": [],
   "source": []
  }
 ],
 "metadata": {
  "kernelspec": {
   "display_name": "Python 3 (ipykernel)",
   "language": "python",
   "name": "python3"
  },
  "language_info": {
   "codemirror_mode": {
    "name": "ipython",
    "version": 3
   },
   "file_extension": ".py",
   "mimetype": "text/x-python",
   "name": "python",
   "nbconvert_exporter": "python",
   "pygments_lexer": "ipython3",
   "version": "3.8.13"
  }
 },
 "nbformat": 4,
 "nbformat_minor": 5
}
