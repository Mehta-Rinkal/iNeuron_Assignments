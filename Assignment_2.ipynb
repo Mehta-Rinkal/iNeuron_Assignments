{
 "cells": [
  {
   "cell_type": "markdown",
   "id": "b269a8d2",
   "metadata": {},
   "source": [
    "### 1.What are the two values of the Boolean data type? How do you write them?"
   ]
  },
  {
   "cell_type": "markdown",
   "id": "cc8c4fae",
   "metadata": {},
   "source": [
    "- Boolean data type has two values.\n",
    "1. True : 1\n",
    "2. False : 0"
   ]
  },
  {
   "cell_type": "code",
   "execution_count": 3,
   "id": "736c1ee1",
   "metadata": {},
   "outputs": [
    {
     "data": {
      "text/plain": [
       "False"
      ]
     },
     "execution_count": 3,
     "metadata": {},
     "output_type": "execute_result"
    }
   ],
   "source": [
    "a,b = 100,101\n",
    "x = a==b\n",
    "x"
   ]
  },
  {
   "cell_type": "code",
   "execution_count": 2,
   "id": "3867d644",
   "metadata": {},
   "outputs": [
    {
     "data": {
      "text/plain": [
       "True"
      ]
     },
     "execution_count": 2,
     "metadata": {},
     "output_type": "execute_result"
    }
   ],
   "source": [
    "x = (a+1) == b\n",
    "x"
   ]
  },
  {
   "cell_type": "markdown",
   "id": "2433a59d",
   "metadata": {},
   "source": [
    "### 2. What are the three different types of Boolean operators?"
   ]
  },
  {
   "cell_type": "markdown",
   "id": "3accb3b7",
   "metadata": {},
   "source": [
    "There are three main boolean operators: and, or, and not"
   ]
  },
  {
   "cell_type": "markdown",
   "id": "8b85af6c",
   "metadata": {},
   "source": [
    "1. and \n",
    " | a | b | True or False |\n",
    " |---|---|---------------|\n",
    " | True | True | True|\n",
    " | False | True | False|\n",
    " | True | False | False|\n",
    " |False | False | False|"
   ]
  },
  {
   "cell_type": "code",
   "execution_count": 13,
   "id": "b82555d1",
   "metadata": {},
   "outputs": [
    {
     "data": {
      "text/plain": [
       "True"
      ]
     },
     "execution_count": 13,
     "metadata": {},
     "output_type": "execute_result"
    }
   ],
   "source": [
    "x = 5\n",
    "y = 10\n",
    "result = (x > 0) and (y < 20)\n",
    "result"
   ]
  },
  {
   "cell_type": "code",
   "execution_count": 14,
   "id": "73697109",
   "metadata": {},
   "outputs": [
    {
     "data": {
      "text/plain": [
       "False"
      ]
     },
     "execution_count": 14,
     "metadata": {},
     "output_type": "execute_result"
    }
   ],
   "source": [
    "x = -4\n",
    "y = 10\n",
    "result = (x > 0) and (y < 20)\n",
    "result"
   ]
  },
  {
   "cell_type": "markdown",
   "id": "7f1f6ad7",
   "metadata": {},
   "source": [
    "2. or\n",
    " | a | b | True or False |\n",
    " |---|---|---------------|\n",
    " | True | True | True|\n",
    " | False | True | True|\n",
    " | True | False | True|\n",
    " |False | False | False|"
   ]
  },
  {
   "cell_type": "code",
   "execution_count": 15,
   "id": "b3ac2a8b",
   "metadata": {},
   "outputs": [
    {
     "data": {
      "text/plain": [
       "True"
      ]
     },
     "execution_count": 15,
     "metadata": {},
     "output_type": "execute_result"
    }
   ],
   "source": [
    "x = 5\n",
    "y = 10\n",
    "result = (x > 0) or (y < 20)\n",
    "result"
   ]
  },
  {
   "cell_type": "code",
   "execution_count": 16,
   "id": "03df508c",
   "metadata": {},
   "outputs": [
    {
     "data": {
      "text/plain": [
       "True"
      ]
     },
     "execution_count": 16,
     "metadata": {},
     "output_type": "execute_result"
    }
   ],
   "source": [
    "x = -4\n",
    "y = 10\n",
    "result = (x > 0) or (y < 20)\n",
    "result"
   ]
  },
  {
   "cell_type": "markdown",
   "id": "1e19c0ef",
   "metadata": {},
   "source": [
    "3. not\n",
    " | a | True or False |\n",
    " |---|---------------|\n",
    " | True | False |\n",
    " | False | True | "
   ]
  },
  {
   "cell_type": "code",
   "execution_count": 12,
   "id": "2a34575a",
   "metadata": {},
   "outputs": [
    {
     "data": {
      "text/plain": [
       "False"
      ]
     },
     "execution_count": 12,
     "metadata": {},
     "output_type": "execute_result"
    }
   ],
   "source": [
    "a = 7\n",
    "b = 9\n",
    "result = not(a<b)\n",
    "result"
   ]
  },
  {
   "cell_type": "markdown",
   "id": "b0b53ed1",
   "metadata": {},
   "source": [
    "### 3. Make a list of each Boolean operator's truth tables (i.e. every possible combination of Boolean values for the operator and what it evaluate )."
   ]
  },
  {
   "cell_type": "markdown",
   "id": "755d389d",
   "metadata": {},
   "source": [
    "1. and \n",
    " | a | b | True or False |\n",
    " |---|---|---------------|\n",
    " | True | True | True|\n",
    " | False | True | False|\n",
    " | True | False | False|\n",
    " |False | False | False|"
   ]
  },
  {
   "cell_type": "markdown",
   "id": "17902ee6",
   "metadata": {},
   "source": [
    "2. or\n",
    " | a | b | True or False |\n",
    " |---|---|---------------|\n",
    " | True | True | True|\n",
    " | False | True | True|\n",
    " | True | False | True|\n",
    " |False | False | False|"
   ]
  },
  {
   "cell_type": "markdown",
   "id": "f58b1d8c",
   "metadata": {},
   "source": [
    "3. not\n",
    " | a | True or False |\n",
    " |---|---------------|\n",
    " | True | False |\n",
    " | False | True | "
   ]
  },
  {
   "cell_type": "markdown",
   "id": "6eb569e0",
   "metadata": {},
   "source": [
    "### 4. What are the values of the following expressions?"
   ]
  },
  {
   "cell_type": "code",
   "execution_count": 17,
   "id": "054a3695",
   "metadata": {},
   "outputs": [
    {
     "data": {
      "text/plain": [
       "False"
      ]
     },
     "execution_count": 17,
     "metadata": {},
     "output_type": "execute_result"
    }
   ],
   "source": [
    "(5 > 4) and (3 == 5)"
   ]
  },
  {
   "cell_type": "code",
   "execution_count": 18,
   "id": "bc5f0861",
   "metadata": {},
   "outputs": [
    {
     "data": {
      "text/plain": [
       "False"
      ]
     },
     "execution_count": 18,
     "metadata": {},
     "output_type": "execute_result"
    }
   ],
   "source": [
    "not (5 > 4)"
   ]
  },
  {
   "cell_type": "code",
   "execution_count": 19,
   "id": "fff7bbee",
   "metadata": {},
   "outputs": [
    {
     "data": {
      "text/plain": [
       "True"
      ]
     },
     "execution_count": 19,
     "metadata": {},
     "output_type": "execute_result"
    }
   ],
   "source": [
    "(5 > 4) or (3 == 5)"
   ]
  },
  {
   "cell_type": "code",
   "execution_count": 20,
   "id": "0c9b39f3",
   "metadata": {},
   "outputs": [
    {
     "data": {
      "text/plain": [
       "False"
      ]
     },
     "execution_count": 20,
     "metadata": {},
     "output_type": "execute_result"
    }
   ],
   "source": [
    "not ((5 > 4) or (3 == 5))"
   ]
  },
  {
   "cell_type": "code",
   "execution_count": 21,
   "id": "8108d46a",
   "metadata": {},
   "outputs": [
    {
     "data": {
      "text/plain": [
       "False"
      ]
     },
     "execution_count": 21,
     "metadata": {},
     "output_type": "execute_result"
    }
   ],
   "source": [
    "(True and True) and (True == False)"
   ]
  },
  {
   "cell_type": "code",
   "execution_count": 22,
   "id": "9470f052",
   "metadata": {},
   "outputs": [
    {
     "data": {
      "text/plain": [
       "True"
      ]
     },
     "execution_count": 22,
     "metadata": {},
     "output_type": "execute_result"
    }
   ],
   "source": [
    "(not False) or (not True)"
   ]
  },
  {
   "cell_type": "markdown",
   "id": "9d6d66db",
   "metadata": {},
   "source": [
    "### 5. What are the six comparison operators?"
   ]
  },
  {
   "cell_type": "markdown",
   "id": "13cda507",
   "metadata": {},
   "source": [
    "1. \">\"\n",
    "2. <\n",
    "3. ==\n",
    "4. !=\n",
    "5. \">=\"\n",
    "6. <="
   ]
  },
  {
   "cell_type": "markdown",
   "id": "b3ce1c08",
   "metadata": {},
   "source": [
    "### 6. How do you tell the difference between the equal to and assignment operators?Describe a condition and when you would use one."
   ]
  },
  {
   "cell_type": "markdown",
   "id": "064a1c01",
   "metadata": {},
   "source": [
    "- Equal To Operator (==):\n",
    "    The == operator is used for comparison, and it returns True if the values on both sides of the operator are equal, and     False otherwise.\n",
    "- Assignment Operator (=):\n",
    "  The = operator is used for assignment, and it assigns a value on the right side to the variable on the left side."
   ]
  },
  {
   "cell_type": "code",
   "execution_count": 24,
   "id": "dc3d43ca",
   "metadata": {},
   "outputs": [
    {
     "name": "stdout",
     "output_type": "stream",
     "text": [
      "Names are different\n"
     ]
    }
   ],
   "source": [
    "name1 = \"John\" #assignment operator\n",
    "name2 = \"Joy\"\n",
    "if name1 == name2: #comparison operator\n",
    "    print(\"Both names are the same\")\n",
    "else:\n",
    "    print(\"Names are different\")"
   ]
  },
  {
   "cell_type": "markdown",
   "id": "7bf507b1",
   "metadata": {},
   "source": [
    "### 7. Identify the three blocks in this code:"
   ]
  },
  {
   "cell_type": "code",
   "execution_count": 27,
   "id": "aa61d6d9",
   "metadata": {},
   "outputs": [
    {
     "name": "stdout",
     "output_type": "stream",
     "text": [
      "ham\n",
      "spam\n",
      "spam\n"
     ]
    }
   ],
   "source": [
    "spam = 0\n",
    "if spam == 10:\n",
    "    print('eggs')\n",
    "if spam > 5:\n",
    "    print('bacon')\n",
    "else:\n",
    "    print('ham')\n",
    "print('spam')\n",
    "print('spam')"
   ]
  },
  {
   "cell_type": "markdown",
   "id": "7ad19707",
   "metadata": {},
   "source": [
    "- The first if statement checks if spam is equal to 10. Since spam is 0, the condition is not met, and 'eggs' will not be printed.\n",
    "- The second if statement checks if spam is greater than 5. Since spam is 0 (not greater than 5), the else block will be executed.\n",
    "- The else block prints 'ham'."
   ]
  },
  {
   "cell_type": "markdown",
   "id": "8fa2c559",
   "metadata": {},
   "source": [
    "### 8. Write code that prints Hello if 1 is stored in spam, prints Howdy if 2 is stored in spam, and prints Greetings! if anything else is stored in spam."
   ]
  },
  {
   "cell_type": "code",
   "execution_count": 28,
   "id": "58a8dea8",
   "metadata": {},
   "outputs": [
    {
     "name": "stdout",
     "output_type": "stream",
     "text": [
      "Greetings!\n"
     ]
    }
   ],
   "source": [
    "spam = 3\n",
    "if spam == 1:\n",
    "    print(\"Hello\")\n",
    "if spam == 2:\n",
    "    print(\"spam\")\n",
    "else:\n",
    "    print(\"Greetings!\")"
   ]
  },
  {
   "cell_type": "markdown",
   "id": "5ca5aadd",
   "metadata": {},
   "source": [
    "### 9.If your programme is stuck in an endless loop, what keys you’ll press?"
   ]
  },
  {
   "cell_type": "markdown",
   "id": "ed3817d0",
   "metadata": {},
   "source": [
    "crtl + c"
   ]
  },
  {
   "cell_type": "markdown",
   "id": "f473a8a2",
   "metadata": {},
   "source": [
    "### 10. How can you tell the difference between break and continue?"
   ]
  },
  {
   "cell_type": "code",
   "execution_count": 45,
   "id": "128b58d6",
   "metadata": {},
   "outputs": [
    {
     "name": "stdout",
     "output_type": "stream",
     "text": [
      "0\n",
      "2\n",
      "4\n",
      "6\n",
      "8\n"
     ]
    }
   ],
   "source": [
    "for i in range(0,10):\n",
    "    if i % 2 == 0:\n",
    "        print(i)\n",
    "    else:\n",
    "        continue"
   ]
  },
  {
   "cell_type": "code",
   "execution_count": 44,
   "id": "e96757de",
   "metadata": {},
   "outputs": [
    {
     "name": "stdout",
     "output_type": "stream",
     "text": [
      "1\n",
      "2\n",
      "3\n",
      "4\n"
     ]
    }
   ],
   "source": [
    "for i in range(1,10):\n",
    "    if i % 5 == 0:\n",
    "        break\n",
    "    else:\n",
    "        print(i)"
   ]
  },
  {
   "cell_type": "markdown",
   "id": "828508c5",
   "metadata": {},
   "source": [
    "- So from the example we can understand that if we use continue statement and condition is true it can skip the result and next condition is checked by expression.\n",
    "- And from second example when break is used programm is stop from when condition is true\n",
    "- break is used to exit the loop entirely when a specific condition is met.\n",
    "- continue is used to skip the current iteration and move to the next iteration of the loop when a specific condition is met."
   ]
  },
  {
   "cell_type": "markdown",
   "id": "ea9808b8",
   "metadata": {},
   "source": [
    "### 11.In a for loop, what is the difference between range(10), range(0, 10), and range(0, 10, 1)?"
   ]
  },
  {
   "cell_type": "code",
   "execution_count": 46,
   "id": "162f6fa3",
   "metadata": {},
   "outputs": [
    {
     "name": "stdout",
     "output_type": "stream",
     "text": [
      "0\n",
      "1\n",
      "2\n",
      "3\n",
      "4\n",
      "5\n",
      "6\n",
      "7\n",
      "8\n",
      "9\n"
     ]
    }
   ],
   "source": [
    "for i in range(10):\n",
    "    print(i)"
   ]
  },
  {
   "cell_type": "code",
   "execution_count": 47,
   "id": "7fab0ac6",
   "metadata": {},
   "outputs": [
    {
     "name": "stdout",
     "output_type": "stream",
     "text": [
      "0\n",
      "1\n",
      "2\n",
      "3\n",
      "4\n",
      "5\n",
      "6\n",
      "7\n",
      "8\n",
      "9\n"
     ]
    }
   ],
   "source": [
    "for i in range(0,10):\n",
    "    print(i)"
   ]
  },
  {
   "cell_type": "code",
   "execution_count": 50,
   "id": "0e2082be",
   "metadata": {},
   "outputs": [
    {
     "name": "stdout",
     "output_type": "stream",
     "text": [
      "0\n",
      "1\n",
      "2\n",
      "3\n",
      "4\n",
      "5\n",
      "6\n",
      "7\n",
      "8\n",
      "9\n"
     ]
    }
   ],
   "source": [
    "for i in range(0,10,1):\n",
    "    print(i)"
   ]
  },
  {
   "cell_type": "markdown",
   "id": "09a3eea2",
   "metadata": {},
   "source": [
    "- range(10) generates numbers from 0 to 9 with a default starting point of 0 and a step size of 1.\n",
    "- range(0, 10) explicitly sets the starting point as 0, generating numbers from 0 to 9 with a step size of 1.\n",
    "- range(0, 10, 1) explicitly sets the starting point as 0, the ending point as 9, and the step size as 1, generating numbers from 0 to 9 with a step size of 1."
   ]
  },
  {
   "cell_type": "markdown",
   "id": "d7905349",
   "metadata": {},
   "source": [
    "### 12. Write a short program that prints the numbers 1 to 10 using a for loop. Then write an equivalent program that prints the numbers 1 to 10 using a while loop."
   ]
  },
  {
   "cell_type": "code",
   "execution_count": 51,
   "id": "e351d5b7",
   "metadata": {},
   "outputs": [
    {
     "name": "stdout",
     "output_type": "stream",
     "text": [
      "1\n",
      "2\n",
      "3\n",
      "4\n",
      "5\n",
      "6\n",
      "7\n",
      "8\n",
      "9\n",
      "10\n"
     ]
    }
   ],
   "source": [
    "for i in range(1,11):\n",
    "    print(i)"
   ]
  },
  {
   "cell_type": "code",
   "execution_count": 59,
   "id": "f2da74eb",
   "metadata": {},
   "outputs": [
    {
     "name": "stdout",
     "output_type": "stream",
     "text": [
      "1\n",
      "2\n",
      "3\n",
      "4\n",
      "5\n",
      "6\n",
      "7\n",
      "8\n",
      "9\n",
      "10\n"
     ]
    }
   ],
   "source": [
    "i = 1\n",
    "while i<11:\n",
    "    print(i)\n",
    "    i = i + 1"
   ]
  },
  {
   "cell_type": "markdown",
   "id": "9892c102",
   "metadata": {},
   "source": [
    "### 13. If you had a function named bacon() inside a module named spam, how would you call it after importing spam?"
   ]
  },
  {
   "cell_type": "markdown",
   "id": "4019a67b",
   "metadata": {},
   "source": [
    "If you have a function named bacon() inside a module named spam, you can call it after importing the spam module using the dot notation."
   ]
  },
  {
   "cell_type": "code",
   "execution_count": 73,
   "id": "b18e002e",
   "metadata": {},
   "outputs": [
    {
     "name": "stdout",
     "output_type": "stream",
     "text": [
      "Requirement already satisfied: import_ipynb in c:\\users\\hp\\anaconda3\\envs\\py3-tf2.0\\lib\\site-packages (0.1.4)\n",
      "Requirement already satisfied: IPython in c:\\users\\hp\\anaconda3\\envs\\py3-tf2.0\\lib\\site-packages (from import_ipynb) (8.4.0)\n",
      "Requirement already satisfied: nbformat in c:\\users\\hp\\anaconda3\\envs\\py3-tf2.0\\lib\\site-packages (from import_ipynb) (5.3.0)\n",
      "Requirement already satisfied: jedi>=0.16 in c:\\users\\hp\\anaconda3\\envs\\py3-tf2.0\\lib\\site-packages (from IPython->import_ipynb) (0.18.1)\n",
      "Requirement already satisfied: stack-data in c:\\users\\hp\\anaconda3\\envs\\py3-tf2.0\\lib\\site-packages (from IPython->import_ipynb) (0.3.0)\n",
      "Requirement already satisfied: backcall in c:\\users\\hp\\anaconda3\\envs\\py3-tf2.0\\lib\\site-packages (from IPython->import_ipynb) (0.2.0)\n",
      "Requirement already satisfied: colorama in c:\\users\\hp\\anaconda3\\envs\\py3-tf2.0\\lib\\site-packages (from IPython->import_ipynb) (0.4.5)\n",
      "Requirement already satisfied: pygments>=2.4.0 in c:\\users\\hp\\anaconda3\\envs\\py3-tf2.0\\lib\\site-packages (from IPython->import_ipynb) (2.12.0)\n",
      "Requirement already satisfied: pickleshare in c:\\users\\hp\\anaconda3\\envs\\py3-tf2.0\\lib\\site-packages (from IPython->import_ipynb) (0.7.5)\n",
      "Requirement already satisfied: matplotlib-inline in c:\\users\\hp\\anaconda3\\envs\\py3-tf2.0\\lib\\site-packages (from IPython->import_ipynb) (0.1.3)\n",
      "Requirement already satisfied: traitlets>=5 in c:\\users\\hp\\anaconda3\\envs\\py3-tf2.0\\lib\\site-packages (from IPython->import_ipynb) (5.3.0)\n",
      "Requirement already satisfied: setuptools>=18.5 in c:\\users\\hp\\anaconda3\\envs\\py3-tf2.0\\lib\\site-packages (from IPython->import_ipynb) (61.2.0)\n",
      "Requirement already satisfied: prompt-toolkit!=3.0.0,!=3.0.1,<3.1.0,>=2.0.0 in c:\\users\\hp\\anaconda3\\envs\\py3-tf2.0\\lib\\site-packages (from IPython->import_ipynb) (3.0.30)\n",
      "Requirement already satisfied: decorator in c:\\users\\hp\\anaconda3\\envs\\py3-tf2.0\\lib\\site-packages (from IPython->import_ipynb) (5.1.1)\n",
      "Requirement already satisfied: jupyter-core in c:\\users\\hp\\anaconda3\\envs\\py3-tf2.0\\lib\\site-packages (from nbformat->import_ipynb) (4.11.1)\n",
      "Requirement already satisfied: jsonschema>=2.6 in c:\\users\\hp\\anaconda3\\envs\\py3-tf2.0\\lib\\site-packages (from nbformat->import_ipynb) (4.4.0)\n",
      "Requirement already satisfied: fastjsonschema in c:\\users\\hp\\anaconda3\\envs\\py3-tf2.0\\lib\\site-packages (from nbformat->import_ipynb) (2.15.1)\n",
      "Requirement already satisfied: parso<0.9.0,>=0.8.0 in c:\\users\\hp\\anaconda3\\envs\\py3-tf2.0\\lib\\site-packages (from jedi>=0.16->IPython->import_ipynb) (0.8.3)\n",
      "Requirement already satisfied: importlib-resources>=1.4.0 in c:\\users\\hp\\anaconda3\\envs\\py3-tf2.0\\lib\\site-packages (from jsonschema>=2.6->nbformat->import_ipynb) (5.2.0)\n",
      "Requirement already satisfied: attrs>=17.4.0 in c:\\users\\hp\\anaconda3\\envs\\py3-tf2.0\\lib\\site-packages (from jsonschema>=2.6->nbformat->import_ipynb) (21.4.0)\n",
      "Requirement already satisfied: pyrsistent!=0.17.0,!=0.17.1,!=0.17.2,>=0.14.0 in c:\\users\\hp\\anaconda3\\envs\\py3-tf2.0\\lib\\site-packages (from jsonschema>=2.6->nbformat->import_ipynb) (0.18.0)\n",
      "Requirement already satisfied: wcwidth in c:\\users\\hp\\anaconda3\\envs\\py3-tf2.0\\lib\\site-packages (from prompt-toolkit!=3.0.0,!=3.0.1,<3.1.0,>=2.0.0->IPython->import_ipynb) (0.2.5)\n",
      "Requirement already satisfied: pywin32>=1.0 in c:\\users\\hp\\anaconda3\\envs\\py3-tf2.0\\lib\\site-packages (from jupyter-core->nbformat->import_ipynb) (304)\n",
      "Requirement already satisfied: executing in c:\\users\\hp\\anaconda3\\envs\\py3-tf2.0\\lib\\site-packages (from stack-data->IPython->import_ipynb) (0.9.1)\n",
      "Requirement already satisfied: pure-eval in c:\\users\\hp\\anaconda3\\envs\\py3-tf2.0\\lib\\site-packages (from stack-data->IPython->import_ipynb) (0.2.2)\n",
      "Requirement already satisfied: asttokens in c:\\users\\hp\\anaconda3\\envs\\py3-tf2.0\\lib\\site-packages (from stack-data->IPython->import_ipynb) (2.0.5)\n",
      "Requirement already satisfied: zipp>=3.1.0 in c:\\users\\hp\\anaconda3\\envs\\py3-tf2.0\\lib\\site-packages (from importlib-resources>=1.4.0->jsonschema>=2.6->nbformat->import_ipynb) (3.8.0)\n",
      "Requirement already satisfied: six in c:\\users\\hp\\anaconda3\\envs\\py3-tf2.0\\lib\\site-packages (from asttokens->stack-data->IPython->import_ipynb) (1.16.0)\n",
      "Note: you may need to restart the kernel to use updated packages.\n"
     ]
    }
   ],
   "source": [
    "pip install import_ipynb"
   ]
  },
  {
   "cell_type": "code",
   "execution_count": 74,
   "id": "4aef931b",
   "metadata": {},
   "outputs": [],
   "source": [
    "# spam.py\n",
    "import import_ipynb\n",
    "import spam as s"
   ]
  },
  {
   "cell_type": "code",
   "execution_count": 75,
   "id": "121c6115",
   "metadata": {},
   "outputs": [
    {
     "name": "stdout",
     "output_type": "stream",
     "text": [
      "I am bacon!\n"
     ]
    }
   ],
   "source": [
    "s.bacon()"
   ]
  },
  {
   "cell_type": "code",
   "execution_count": null,
   "id": "dd404801",
   "metadata": {},
   "outputs": [],
   "source": []
  }
 ],
 "metadata": {
  "kernelspec": {
   "display_name": "Python 3 (ipykernel)",
   "language": "python",
   "name": "python3"
  },
  "language_info": {
   "codemirror_mode": {
    "name": "ipython",
    "version": 3
   },
   "file_extension": ".py",
   "mimetype": "text/x-python",
   "name": "python",
   "nbconvert_exporter": "python",
   "pygments_lexer": "ipython3",
   "version": "3.8.13"
  }
 },
 "nbformat": 4,
 "nbformat_minor": 5
}
